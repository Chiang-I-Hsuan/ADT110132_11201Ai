{
 "cells": [
  {
   "cell_type": "code",
   "execution_count": 11,
   "id": "2b8a46cc",
   "metadata": {},
   "outputs": [
    {
     "name": "stdout",
     "output_type": "stream",
     "text": [
      "標題:臺北市- 縣市預報| 交通部中央氣象署www.cwa.gov.tw › County › County\n",
      "網址:/url?q=https://www.cwa.gov.tw/V8/C/W/County/County.html%3FCID%3D63&sa=U&ved=2ahUKEwiojcOhi_-BAxX0qVYBHTjnCf8QFnoECAcQAg&usg=AOvVaw1y2y2DvrcVw7R86VbXkBqb\n",
      "\n",
      "標題:臺北市, 台北市, 臺灣每小時天氣 - AccuWeatherwww.accuweather.com › taipei-city › hourly-weather-forecast\n",
      "網址:/url?q=https://www.accuweather.com/zh/tw/taipei-city/315078/hourly-weather-forecast/315078&sa=U&ved=2ahUKEwiojcOhi_-BAxX0qVYBHTjnCf8QFnoECAkQAg&usg=AOvVaw0xu72lt-ie9e4nGDyxyZf-\n",
      "\n",
      "標題:東榮, 臺北市每小時天氣預報 - The Weather Channelweather.com › zh-TW › weather › hourbyhour › Dongrong+Taipei\n",
      "網址:/url?q=https://weather.com/zh-TW/weather/hourbyhour/l/Dongrong%2BTaipei%3FcanonicalCityId%3Dd7a30822715ad1b2572c83dce89530df3e4fae10abff541b08d7c5f36764ec3f&sa=U&ved=2ahUKEwiojcOhi_-BAxX0qVYBHTjnCf8QFnoECAMQAg&usg=AOvVaw2Ag38f3q5Mn4ojz7AcftK1\n",
      "\n",
      "標題:臺北市, 台灣- 氣象預報| 地圖 - Yahoo奇摩新聞tw.news.yahoo.com › weather › 臺灣 › 臺北市 › 臺北市-2306179\n",
      "網址:/url?q=https://tw.news.yahoo.com/weather/%25E8%2587%25BA%25E7%2581%25A3/%25E8%2587%25BA%25E5%258C%2597%25E5%25B8%2582/%25E8%2587%25BA%25E5%258C%2597%25E5%25B8%2582-2306179&sa=U&ved=2ahUKEwiojcOhi_-BAxX0qVYBHTjnCf8QFnoECAEQAg&usg=AOvVaw14u_LsF8Jiw31Q3T5WLkRc\n",
      "\n",
      "標題:東榮, 臺北市10 天天氣預報 - The Weather Channelweather.com › zh-TW › weather › tenday › Dongrong+Taipei\n",
      "網址:/url?q=https://weather.com/zh-TW/weather/tenday/l/Dongrong%2BTaipei%3FcanonicalCityId%3Dd7a30822715ad1b2572c83dce89530df3e4fae10abff541b08d7c5f36764ec3f&sa=U&ved=2ahUKEwiojcOhi_-BAxX0qVYBHTjnCf8QFnoECAUQAg&usg=AOvVaw3tQrp6KOQl3FJz0pHmmL-3\n",
      "\n",
      "標題:氣象儀錶板 - 臺北市政府全球資訊網www.gov.taipei › WeatherPanel\n",
      "網址:/url?q=https://www.gov.taipei/WeatherPanel.aspx&sa=U&ved=2ahUKEwiojcOhi_-BAxX0qVYBHTjnCf8QFnoECAoQAg&usg=AOvVaw3JOKq1juQq1B8Egtbfeduk\n",
      "\n",
      "標題:天氣預報》秋老虎來襲！這天轉雨「氣溫驟降10度」，本週恐有颱風www.storm.mg › 風生活\n",
      "網址:/url?q=https://www.storm.mg/lifestyle/4884666&sa=U&ved=2ahUKEwiojcOhi_-BAxX0qVYBHTjnCf8QFnoECAYQAg&usg=AOvVaw1Ry-egDZF0PHNFTFB9R4CI\n",
      "\n",
      "標題:臺北市信義區天氣預報,臺灣七日氣象溫度,降雨機率weather.yam.com › 信義區 › 臺北市\n",
      "網址:/url?q=https://weather.yam.com/%25E4%25BF%25A1%25E7%25BE%25A9%25E5%258D%2580/%25E8%2587%25BA%25E5%258C%2597%25E5%25B8%2582&sa=U&ved=2ahUKEwiojcOhi_-BAxX0qVYBHTjnCf8QFnoECAQQAg&usg=AOvVaw3fuBa_gUco4tdKTRxCbxtd\n",
      "\n",
      "標題:台灣台北- 天氣預報 - Forecast7.comforecast7.com › zh-tw › taipei\n",
      "網址:/url?q=https://forecast7.com/zh-tw/25d03121d57/taipei/&sa=U&ved=2ahUKEwiojcOhi_-BAxX0qVYBHTjnCf8QFnoECAIQAg&usg=AOvVaw3nTL2YcVAMlBUhoKtcaVQm\n",
      "\n"
     ]
    }
   ],
   "source": [
    "import requests\n",
    "from bs4 import BeautifulSoup\n",
    "\n",
    "#google_url\n",
    "google_url=\"http://www.google.com.tw/search\"\n",
    "\n",
    "#parameter\n",
    "my_params= {'q':'台北天氣'}\n",
    "r= requests.get(google_url,params= my_params)\n",
    "\n",
    "soup= BeautifulSoup(r.text,'html.parser')\n",
    "\n",
    "#print(soup.prettify())\n",
    "items= soup.select('div.kCrYT > [href^=\"/url\"]')\n",
    "#print(items)\n",
    "\n",
    "for i in items:\n",
    "    print(\"標題:\"+ i.text)\n",
    "    print(\"網址:\"+i.get('href'))\n",
    "    print()"
   ]
  },
  {
   "cell_type": "code",
   "execution_count": null,
   "id": "1820d7b9",
   "metadata": {},
   "outputs": [],
   "source": []
  },
  {
   "cell_type": "code",
   "execution_count": null,
   "id": "9b6d1ed1",
   "metadata": {},
   "outputs": [],
   "source": []
  }
 ],
 "metadata": {
  "kernelspec": {
   "display_name": "Python 3",
   "language": "python",
   "name": "python3"
  },
  "language_info": {
   "codemirror_mode": {
    "name": "ipython",
    "version": 3
   },
   "file_extension": ".py",
   "mimetype": "text/x-python",
   "name": "python",
   "nbconvert_exporter": "python",
   "pygments_lexer": "ipython3",
   "version": "3.6.13"
  }
 },
 "nbformat": 4,
 "nbformat_minor": 5
}
